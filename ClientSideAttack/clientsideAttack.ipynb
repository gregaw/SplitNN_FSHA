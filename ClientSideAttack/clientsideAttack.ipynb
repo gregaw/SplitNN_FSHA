{
 "cells": [
  {
   "cell_type": "code",
   "execution_count": 1,
   "metadata": {},
   "outputs": [],
   "source": [
    "import os\n",
    "os.environ['CUDA_VISIBLE_DEVICES'] = '0'\n",
    "\n",
    "import tensorflow as tf\n",
    "import tqdm\n",
    "import numpy as np\n",
    "\n",
    "import dataset\n",
    "from server import Server\n",
    "from clients import *\n",
    "from archs import *\n",
    "import archs\n",
    "import matplotlib.pyplot as plt\n",
    "\n",
    "\n",
    "xpriv, _ = dataset.load_mnist()"
   ]
  },
  {
   "cell_type": "markdown",
   "metadata": {},
   "source": [
    "# Setup Attack"
   ]
  },
  {
   "cell_type": "code",
   "execution_count": 3,
   "metadata": {},
   "outputs": [],
   "source": [
    "# choose attacker's target class\n",
    "target_class = 1\n",
    "# number of honest clients\n",
    "NHC = 10\n",
    "\n",
    "batch_size = 256\n",
    "f = make_f()\n",
    "ff = make_ff()\n",
    "G = make_generator()\n",
    "clients = [\n",
    "    BadClient(f, ff, G, batch_size, target_class),\n",
    "]\n",
    "for i in range(NHC):\n",
    "    clients += [Client(f, ff)]"
   ]
  },
  {
   "cell_type": "markdown",
   "metadata": {},
   "source": [
    "# Run attack"
   ]
  },
  {
   "cell_type": "code",
   "execution_count": 4,
   "metadata": {},
   "outputs": [
    {
     "name": "stderr",
     "output_type": "stream",
     "text": [
      "100%|██████████| 5000/5000 [11:16<00:00,  7.39it/s]\n"
     ]
    }
   ],
   "source": [
    "splitnn = Server(make_s, clients, xpriv, batch_size)\n",
    "log, log_bad = splitnn(5000)"
   ]
  },
  {
   "cell_type": "markdown",
   "metadata": {},
   "source": [
    "# Sample from the trained generator $G$"
   ]
  },
  {
   "cell_type": "code",
   "execution_count": 5,
   "metadata": {},
   "outputs": [
    {
     "data": {
      "image/png": "[encoded data removed]",
      "text/plain": [
       "<Figure size 3240x216 with 15 Axes>"
      ]
     },
     "metadata": {},
     "output_type": "display_data"
    }
   ],
   "source": [
    "def plot(X):\n",
    "    n = len(X)\n",
    "    X = (X+1)/2\n",
    "    fig, ax = plt.subplots(1, n, figsize=(n*3,3))\n",
    "    plt.axis('off')\n",
    "    plt.subplots_adjust(wspace=0, hspace=-.05)\n",
    "    for i in range(n):\n",
    "        ax[i].imshow((X[i].reshape(28, 28)), cmap='gray');  \n",
    "        ax[i].set(xticks=[], yticks=[])\n",
    "        ax[i].set_aspect('equal')\n",
    "        \n",
    "    return fig\n",
    "\n",
    "x = clients[0].generate().numpy()[:15]\n",
    "fig = plot(x);"
   ]
  },
  {
   "cell_type": "code",
   "execution_count": null,
   "metadata": {},
   "outputs": [],
   "source": []
  }
 ],
 "metadata": {
  "kernelspec": {
   "display_name": "TTF2",
   "language": "python",
   "name": "ttf2"
  },
  "language_info": {
   "codemirror_mode": {
    "name": "ipython",
    "version": 3
   },
   "file_extension": ".py",
   "mimetype": "text/x-python",
   "name": "python",
   "nbconvert_exporter": "python",
   "pygments_lexer": "ipython3",
   "version": "3.7.4"
  }
 },
 "nbformat": 4,
 "nbformat_minor": 4
}
